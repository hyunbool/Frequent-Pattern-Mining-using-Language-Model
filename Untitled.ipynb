{
 "cells": [
  {
   "cell_type": "code",
   "execution_count": 21,
   "metadata": {},
   "outputs": [],
   "source": [
    "\"\"\"\n",
    "# 네이버 영화에서 크롤링\n",
    "# 문제점: 영화 갯수가 몇개 되지 않는다\n",
    "\n",
    "\n",
    "import requests\n",
    "from bs4 import BeautifulSoup as bs\n",
    "import openpyxl\n",
    "from urllib.request import urlretrieve\n",
    "import ssl\n",
    "\n",
    "wb = openpyxl.Workbook()\n",
    "sheet = wb.active\n",
    "sheet.append([\"영화제목\", \"영화장르\"])\n",
    "\n",
    "raw = requests.get(\"https://movie.naver.com/movie/running/current.nhn\",\n",
    "                  headers={'User-Agent':'Mozilla/5.0'})\n",
    "html = bs(raw.text, 'html.parser')\n",
    "\n",
    "movie = html.select(\"div.lst_wrap li\")\n",
    "\n",
    "for i, m in enumerate(movie):\n",
    "    # 영화제목 수집\n",
    "    title = m.select_one(\"dt.tit a\")\n",
    "    \n",
    "    # 영화장르 수집\n",
    "    genre = m.select(\"dl.info_txt1 dd:nth-of-type(1) a\")\n",
    "    \n",
    "    genre_list = [g.text for g in genre]\n",
    "    genre_str = ','.join(genre_list)\n",
    "    sheet.append([title.text, genre_str])\n",
    "\n",
    "    title_rename = title.text.replace(\" \", \"\").replace(\":\", \"_\")\n",
    "\n",
    "wb.save(\"navermovie.xlsx\")\n",
    "\"\"\""
   ]
  },
  {
   "cell_type": "code",
   "execution_count": 31,
   "metadata": {},
   "outputs": [],
   "source": [
    "# 참고사이트: 네이버 영화 데이터 크롤링하기(https://somjang.tistory.com/entry/Python%EB%84%A4%EC%9D%B4%EB%B2%84-%EC%98%81%ED%99%94-%EB%8D%B0%EC%9D%B4%ED%84%B0-%ED%81%AC%EB%A1%A4%EB%A7%81%ED%95%98%EA%B8%B0)\n",
    "from selenium import webdriver as wd\n",
    "from selenium.webdriver.common.keys import Keys\n",
    "from bs4 import BeautifulSoup\n",
    "import time\n",
    "import requests\n",
    "import time\n",
    "import re\n",
    "import pandas as pd"
   ]
  },
  {
   "cell_type": "code",
   "execution_count": 98,
   "metadata": {},
   "outputs": [],
   "source": [
    "links = []\n",
    "# 영화 링크 크롤링\n",
    "for page in range(10):\n",
    "    url = \"https://series.naver.com/movie/recentList.nhn?orderType=sale&sortingType=&tagCode=&page=\" + str(page + 1)\n",
    "    req = requests.get(url)\n",
    "    soup = BeautifulSoup(req.text, 'lxml')\n",
    "    movielinks = soup.select('div.lst_thum_wrap ul li a[href]')\n",
    "\n",
    "    for movielink in movielinks:\n",
    "        link = str(movielink.get('href'))\n",
    "        links.append(\"https://series.naver.com\"+link)\n"
   ]
  },
  {
   "cell_type": "code",
   "execution_count": null,
   "metadata": {},
   "outputs": [
    {
     "name": "stderr",
     "output_type": "stream",
     "text": [
      "/Users/hbae/.local/lib/python3.7/site-packages/ipykernel_launcher.py:8: DeprecationWarning: use options instead of chrome_options\n",
      "  \n"
     ]
    }
   ],
   "source": [
    "genre_list = []\n",
    "title_list = []\n",
    "\n",
    "# 크롬드라이버 창 안열리고 실행\n",
    "chrome_options = webdriver.ChromeOptions()\n",
    "chrome_options.add_argument('headless')\n",
    "\n",
    "driver = webdriver.Chrome('./chromedriver', chrome_options=chrome_options)\n",
    "\n",
    "for link in links:\n",
    "    driver.switch_to.window(driver.window_handles[-1]) \n",
    "    time.sleep(0.1)\n",
    "    driver.get(link)\n",
    "    time.sleep(0.1)\n",
    "    driver.switch_to.window(driver.window_handles[0]) \n",
    "    time.sleep(0.3)\n",
    "    \n",
    "    html = driver.page_source\n",
    "    soup = BeautifulSoup(html,'lxml')\n",
    "    \n",
    "    flag = soup.text[0:10]\n",
    "    flag = \"\".join(flag) \n",
    "    flag = flag.replace('\\n', '')\n",
    "\n",
    "\n",
    "    if flag == '네이버':\n",
    "        time.sleep(1)\n",
    "        \n",
    "        genre = driver.find_element_by_css_selector('li.info_lst > ul > li:nth-child(4)').get_attribute('textContent')\n",
    "        genre = genre.replace('장르','') \n",
    "        #genre = genre.split('/') \n",
    "        genre_list.append(genre)\n",
    "        \n",
    "        movieurl = driver.find_element_by_css_selector('span.al_r > a').get_attribute('href')\n",
    "        movie_req = requests.get(movieurl) \n",
    "        movie_soup = BeautifulSoup(movie_req.text, 'lxml') \n",
    "        titles = movie_soup.select('div.mv_info > h3.h_movie > a')\n",
    "        title = titles[0].text\n",
    "        title = title.replace('.', '')\n",
    "        title_list.append(title)"
   ]
  },
  {
   "cell_type": "code",
   "execution_count": 94,
   "metadata": {},
   "outputs": [
    {
     "name": "stdout",
     "output_type": "stream",
     "text": [
      "['애니메이션', '드라마', '드라마', '액션', '액션', '드라마', '드라마', 'SF/판타지', '코미디', '드라마', '멜로', '액션', '멜로', '드라마', '드라마', '드라마', 'SF/판타지', '드라마', '멜로', '액션', '드라마', '멜로', 'SF/판타지', '코미디', '액션', 'SF/판타지', '액션', '멜로', '코미디', '드라마', '액션', '드라마', 'SF/판타지', '다큐멘터리', '드라마', '드라마', 'SF/판타지', '드라마', '액션', 'SF/판타지', '드라마', 'SF/판타지', '코미디', '액션', '액션', 'SF/판타지', '드라마', '액션', '액션', 'SF/판타지', '코미디', '액션', '코미디', '액션', '드라마', 'SF/판타지', '멜로', '드라마', '드라마', '멜로']\n",
      "['너의 이름은', '라라랜드', '증인', '돈', '청년경찰', '비긴 어게인', '미스 슬로운', '신과함께-죄와 벌', '아이 필 프리티', '리틀 포레스트', '어바웃 타임', '초한지 - 천하대전', '나의 소녀시대', '하늘이 보내준 딸', '동주', '기생충', '해리 포터와 마법사의 돌', '내 사랑', '노트북', '어벤져스: 엔드게임', '파이브 피트', '러브 액츄얼리', '헝거게임 : 판엠의 불꽃', '마담 프루스트의 비밀정원', '어벤져스', '내안의 그놈', '롱 리브 더 킹: 목포 영웅', '나는 내일, 어제의 너와 만난다', '500일의 썸머', '이미테이션 게임', '가디언즈 오브 갤럭시', '말모이', '해리 포터와 비밀의 방', '천안함 프로젝트', '싱 스트리트', '심야식당', '해리 포터와 아즈카반의 죄수', '바람', '어벤져스: 에이지 오브 울트론', '헝거게임: 캣칭 파이어', '리틀 포레스트: 여름과 가을', '해리 포터와 불의 잔', '언터처블: 1%의 우정', '스파이더맨: 홈커밍', '트랜센던스', '신과함께-인과 연', '바보', '인셉션', '해리 포터와 죽음의 성물 - 2부', '해리 포터와 불사조 기사단', '극한직업', '메이즈 러너', '인턴', '어벤져스: 인피니티 워', '조제, 호랑이 그리고 물고기들', '해리 포터와 혼혈 왕자', '소공녀', '더 헌트', '아이 캔 스피크', '너의 결혼식']\n"
     ]
    }
   ],
   "source": [
    "print(genre_list)\n",
    "print(title_list)"
   ]
  },
  {
   "cell_type": "code",
   "execution_count": 97,
   "metadata": {},
   "outputs": [],
   "source": [
    "wb = openpyxl.Workbook()\n",
    "sheet = wb.active\n",
    "sheet.append([\"titles\", \"genres\"])\n",
    "\n",
    "for i in range(len(title_list)):\n",
    "    sheet.append([title_list[i], genre_list[i]])\n",
    "\n",
    "    wb.save(\"movie.xlsx\")"
   ]
  },
  {
   "cell_type": "code",
   "execution_count": null,
   "metadata": {},
   "outputs": [],
   "source": []
  }
 ],
 "metadata": {
  "kernelspec": {
   "display_name": "Python 3",
   "language": "python",
   "name": "python3"
  },
  "language_info": {
   "codemirror_mode": {
    "name": "ipython",
    "version": 3
   },
   "file_extension": ".py",
   "mimetype": "text/x-python",
   "name": "python",
   "nbconvert_exporter": "python",
   "pygments_lexer": "ipython3",
   "version": "3.7.4"
  }
 },
 "nbformat": 4,
 "nbformat_minor": 2
}
