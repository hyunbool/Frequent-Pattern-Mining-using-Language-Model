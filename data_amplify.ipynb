{
 "cells": [
  {
   "cell_type": "code",
   "execution_count": 160,
   "metadata": {},
   "outputs": [],
   "source": [
    "import pickle\n",
    "import numpy as np\n",
    "import pandas as pd\n",
    "from mlxtend.preprocessing import TransactionEncoder\n",
    "from mlxtend.frequent_patterns import apriori"
   ]
  },
  {
   "cell_type": "code",
   "execution_count": 161,
   "metadata": {},
   "outputs": [],
   "source": [
    "test = pd.read_csv('ml-25m/ratings.csv')"
   ]
  },
  {
   "cell_type": "code",
   "execution_count": 162,
   "metadata": {},
   "outputs": [],
   "source": [
    "# frequent item set 저장해놓은 파일\n",
    "with open('items.pkl', 'rb') as f:\n",
    "    items = pickle.load(f)"
   ]
  },
  {
   "cell_type": "code",
   "execution_count": 163,
   "metadata": {},
   "outputs": [
    {
     "data": {
      "text/plain": [
       "'\\nfrequent item 구히기(support = 0.0005): 전체 데이터의 0.05%\\n'"
      ]
     },
     "execution_count": 163,
     "metadata": {},
     "output_type": "execute_result"
    }
   ],
   "source": [
    "\"\"\"\n",
    "frequent item 구히기(support = 0.0005): 전체 데이터의 0.05%\n",
    "\"\"\"\n",
    "#te = TransactionEncoder()\n",
    "#te_result = te.fit(movies).transform(movies)\n",
    "#df = pd.DataFrame(te_result, columns=te.columns_)"
   ]
  },
  {
   "cell_type": "code",
   "execution_count": 164,
   "metadata": {},
   "outputs": [],
   "source": [
    "#frequent_itemsets = apriori(df, min_support=0.0005, use_colnames=True)"
   ]
  },
  {
   "cell_type": "code",
   "execution_count": 165,
   "metadata": {},
   "outputs": [],
   "source": [
    "item = items.tolist()"
   ]
  },
  {
   "cell_type": "code",
   "execution_count": 166,
   "metadata": {},
   "outputs": [],
   "source": [
    "item_list = []\n",
    "for i in range(len(item)):\n",
    "    item_list.append(int(item[i]))"
   ]
  },
  {
   "cell_type": "code",
   "execution_count": 167,
   "metadata": {},
   "outputs": [],
   "source": [
    "whole_movie = movies['movieId'].tolist() # 전체 영화 아이템"
   ]
  },
  {
   "cell_type": "code",
   "execution_count": 168,
   "metadata": {},
   "outputs": [],
   "source": [
    "not_frequent = (set(whole_movie) - set(item_list)) # 전체 영화와 frequent set의 교집합"
   ]
  },
  {
   "cell_type": "code",
   "execution_count": 169,
   "metadata": {},
   "outputs": [],
   "source": [
    "not_frequent = sorted(not_frequent) # frequent하지 않은 아이템들"
   ]
  },
  {
   "cell_type": "code",
   "execution_count": 171,
   "metadata": {},
   "outputs": [
    {
     "name": "stdout",
     "output_type": "stream",
     "text": [
      "24999955\n",
      "33\n",
      "24999955\n",
      "37\n",
      "24999955\n",
      "51\n",
      "24999927\n",
      "53\n",
      "24999790\n"
     ]
    }
   ],
   "source": [
    "# 전체 rating에서 frequent하지 않은 아이템들에 대한 평가를 삭제\n",
    "print(len(test))\n",
    "for j in not_frequent[:4]:\n",
    "    if int(j) in test['movieId']:\n",
    "        print(j)\n",
    "        mask = test['movieId'].isin([j])\n",
    "        test = test[~mask] # ~를 포함하게 되면 mask의 값을 제외, ~을 제외하면 mask의 값을 포함입니다.\n",
    "        print(len(test))"
   ]
  },
  {
   "cell_type": "code",
   "execution_count": 172,
   "metadata": {},
   "outputs": [],
   "source": [
    "test.to_csv(\"removed_ratings.csv\", mode='w')"
   ]
  },
  {
   "cell_type": "code",
   "execution_count": null,
   "metadata": {},
   "outputs": [],
   "source": []
  }
 ],
 "metadata": {
  "kernelspec": {
   "display_name": "Python 3",
   "language": "python",
   "name": "python3"
  },
  "language_info": {
   "codemirror_mode": {
    "name": "ipython",
    "version": 3
   },
   "file_extension": ".py",
   "mimetype": "text/x-python",
   "name": "python",
   "nbconvert_exporter": "python",
   "pygments_lexer": "ipython3",
   "version": "3.7.4"
  }
 },
 "nbformat": 4,
 "nbformat_minor": 2
}
