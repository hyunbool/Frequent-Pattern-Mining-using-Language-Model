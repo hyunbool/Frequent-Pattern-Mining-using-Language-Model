{
 "cells": [
  {
   "cell_type": "markdown",
   "metadata": {},
   "source": [
    "# n-gram 언어모델\n",
    "단어 문장 대신 아이템 넣어서 평가"
   ]
  },
  {
   "cell_type": "code",
   "execution_count": 6,
   "metadata": {},
   "outputs": [],
   "source": [
    "#코드 참조:\n",
    "#데이터 사이언스 스쿨: 확률론적 언어 모형(https://datascienceschool.net/view-notebook/a0c848e1e2d343d685e6077c35c4203b/)\n",
    "from nltk import bigrams, word_tokenize\n",
    "from nltk.util import ngrams\n",
    "import nltk\n",
    "nltk.download(\"book\", quiet=True)\n",
    "from nltk.book import *\n",
    "\n",
    "import pandas as pd\n",
    "import numpy as np\n",
    "from nltk import ConditionalFreqDist\n",
    "import pickle\n",
    "import random"
   ]
  },
  {
   "cell_type": "code",
   "execution_count": 2,
   "metadata": {},
   "outputs": [],
   "source": [
    "movies = pd.read_csv('ml-latest-small/movies.csv')\n",
    "ratings = pd.read_csv('ml-latest-small/ratings.csv')"
   ]
  },
  {
   "cell_type": "code",
   "execution_count": 8,
   "metadata": {},
   "outputs": [],
   "source": [
    "ratings['liked'] = np.where(ratings['rating']>=4, 1, 0)\n",
    "ratings['movieId'] = ratings['movieId'].astype('str')\n",
    "gp_user_like = ratings.groupby(['liked', 'userId'])"
   ]
  },
  {
   "cell_type": "code",
   "execution_count": 9,
   "metadata": {},
   "outputs": [],
   "source": [
    "# 유저 n이 좋아한 영화 => positive example\n",
    "# 유저 n이 싫어하는 영화 별로 그룹, 좋아하는 영화 별로 그룹핑\n",
    "splitted_movies = [gp_user_like.get_group(gp)['movieId'].tolist() for gp in gp_user_like.groups]"
   ]
  },
  {
   "cell_type": "markdown",
   "metadata": {},
   "source": [
    "## 아이템셋 토큰화\n",
    "- window 사이즈 2인 n-gram 모형\n",
    "- SS: 문장의 처음\n",
    "- SE: 문장의 끝"
   ]
  },
  {
   "cell_type": "code",
   "execution_count": 47,
   "metadata": {},
   "outputs": [],
   "source": [
    "with open('splitted_movies.txt', 'wb') as f:\n",
    "    pickle.dump(splitted_movies, f)"
   ]
  },
  {
   "cell_type": "code",
   "execution_count": 12,
   "metadata": {},
   "outputs": [
    {
     "ename": "FileNotFoundError",
     "evalue": "[Errno 2] No such file or directory: 'splitted_movies.txt'",
     "output_type": "error",
     "traceback": [
      "\u001b[0;31m---------------------------------------------------------------------------\u001b[0m",
      "\u001b[0;31mFileNotFoundError\u001b[0m                         Traceback (most recent call last)",
      "\u001b[0;32m<ipython-input-12-ff0675ab3996>\u001b[0m in \u001b[0;36m<module>\u001b[0;34m\u001b[0m\n\u001b[1;32m      1\u001b[0m \u001b[0;31m# 파일 읽어오기\u001b[0m\u001b[0;34m\u001b[0m\u001b[0;34m\u001b[0m\u001b[0;34m\u001b[0m\u001b[0m\n\u001b[0;32m----> 2\u001b[0;31m \u001b[0;32mwith\u001b[0m \u001b[0mopen\u001b[0m\u001b[0;34m(\u001b[0m\u001b[0;34m'splitted_movies.txt'\u001b[0m\u001b[0;34m,\u001b[0m \u001b[0;34m'rb'\u001b[0m\u001b[0;34m)\u001b[0m \u001b[0;32mas\u001b[0m \u001b[0mf\u001b[0m\u001b[0;34m:\u001b[0m\u001b[0;34m\u001b[0m\u001b[0;34m\u001b[0m\u001b[0m\n\u001b[0m\u001b[1;32m      3\u001b[0m     \u001b[0msplitted_movies\u001b[0m \u001b[0;34m=\u001b[0m \u001b[0mpickle\u001b[0m\u001b[0;34m.\u001b[0m\u001b[0mload\u001b[0m\u001b[0;34m(\u001b[0m\u001b[0mf\u001b[0m\u001b[0;34m)\u001b[0m\u001b[0;34m\u001b[0m\u001b[0;34m\u001b[0m\u001b[0m\n",
      "\u001b[0;31mFileNotFoundError\u001b[0m: [Errno 2] No such file or directory: 'splitted_movies.txt'"
     ]
    }
   ],
   "source": [
    "# 파일 읽어오기\n",
    "#with open('splitted_movies.txt', 'rb') as f:\n",
    " #   splitted_movies = pickle.load(f)"
   ]
  },
  {
   "cell_type": "code",
   "execution_count": 48,
   "metadata": {},
   "outputs": [],
   "source": [
    "# 아이템 1개 이하 유저 거르기\n",
    "for i in range(len(splitted_movies)):\n",
    "    if len(splitted_movies[i]) < 2:\n",
    "        print(i)\n",
    "        print(splitted_movies[i])"
   ]
  },
  {
   "cell_type": "code",
   "execution_count": 49,
   "metadata": {},
   "outputs": [],
   "source": [
    "sentences = []\n",
    "for tokens in splitted_movies:\n",
    "    bigram = ngrams(tokens, 2, pad_left=True, pad_right=True, left_pad_symbol=\"SS\", right_pad_symbol=\"SE\")\n",
    "    sentences += [t for t in bigram]"
   ]
  },
  {
   "cell_type": "code",
   "execution_count": 50,
   "metadata": {},
   "outputs": [
    {
     "name": "stdout",
     "output_type": "stream",
     "text": [
      "[('SS', '70'), ('70', '223'), ('223', '296'), ('296', '316'), ('316', '423'), ('423', '500'), ('500', '648'), ('648', '673'), ('673', '736'), ('736', '780'), ('780', '1009'), ('1009', '1030'), ('1030', '1219'), ('1219', '1258'), ('1258', '1377'), ('1377', '1396'), ('1396', '1408'), ('1408', '1445'), ('1445', '1580'), ('1580', '1644'), ('1644', '1676'), ('1676', '2093'), ('2093', '2253'), ('2253', '2338'), ('2338', '2389'), ('2389', '2414'), ('2414', '2528'), ('2528', '2617'), ('2617', '2657'), ('2657', '3176'), ('3176', '3243'), ('3243', '3247'), ('3247', 'SE'), ('SS', '318'), ('318', '8798'), ('8798', '71535'), ('71535', '77455'), ('77455', '91529'), ('91529', '91658'), ('91658', '99114'), ('99114', '109487'), ('109487', '114060'), ('114060', '115713'), ('115713', 'SE'), ('SS', '31'), ('31', '527'), ('527', '647'), ('647', '688'), ('688', '720'), ('720', '914'), ('914', '1093'), ('1093', '1124'), ('1124', '1263'), ('1263', '1272'), ('1272', '1275'), ('1275', '1302'), ('1302', '1371'), ('1371', '2018'), ('2018', '2080'), ('2080', '2090'), ('2090', '2105'), ('2105', '2424'), ('2424', '3210'), ('3210', '3949'), ('3949', '5048'), ('5048', '6238'), ('6238', '72378'), ('72378', 'SE'), ('SS', '21'), ('21', '32'), ('32', '45'), ('45', '47'), ('47', '52'), ('52', '58'), ('58', '126'), ('126', '171'), ('171', '190'), ('190', '222'), ('222', '235'), ('235', '247'), ('247', '296'), ('296', '351'), ('351', '357'), ('357', '417'), ('417', '441'), ('441', '450'), ('450', '509'), ('509', '539'), ('539', '553'), ('553', '595'), ('595', '599'), ('599', '648'), ('648', '759'), ('759', '937'), ('937', '1057'), ('1057', '1060'), ('1060', '1079'), ('1079', '1094'), ('1094', '1183'), ('1183', '1198'), ('1198', '1199'), ('1199', '1211'), ('1211', '1279'), ('1279', '1304'), ('1304', '1391'), ('1391', '1580'), ('1580', '1597'), ('1597', '1617'), ('1617', '1704'), ('1704', '1734'), ('1734', '1860'), ('1860', '1885'), ('1885', '1892'), ('1892', '1907'), ('1907', '1916'), ('1916', '1923'), ('1923', '1966'), ('1966', '2019'), ('2019', '2145'), ('2145', '2282'), ('2282', '2324'), ('2324', '2336'), ('2336', '2395'), ('2395', '2571'), ('2571', '2628'), ('2628', '2712'), ('2712', '2763'), ('2763', '2770'), ('2770', '2959'), ('2959', '2973'), ('2973', '3079'), ('3079', '3175'), ('3175', '3358'), ('3358', '3481'), ('3481', '3489'), ('3489', '3538'), ('3538', '3591'), ('3591', '3788'), ('3788', '3809'), ('3809', '3911'), ('3911', '4002'), ('4002', '4014'), ('4014', '4020'), ('4020', '4027'), ('4027', '4029'), ('4029', '4074'), ('4074', '4144'), ('4144', '4166'), ('4166', '4226'), ('4226', '4252')]\n"
     ]
    }
   ],
   "source": [
    "print(sentences[:150])"
   ]
  },
  {
   "cell_type": "code",
   "execution_count": 51,
   "metadata": {},
   "outputs": [],
   "source": [
    "movieId_to_name = pd.Series(movies.title.values, index = movies.movieId.values).to_dict()\n",
    "name_to_movieId = pd.Series(movies.movieId.values, index = movies.title).to_dict()"
   ]
  },
  {
   "cell_type": "code",
   "execution_count": 52,
   "metadata": {},
   "outputs": [],
   "source": [
    "cfd = ConditionalFreqDist(sentences)"
   ]
  },
  {
   "cell_type": "code",
   "execution_count": 53,
   "metadata": {},
   "outputs": [],
   "source": [
    "from nltk.probability import ConditionalProbDist, MLEProbDist\n",
    "cpd = ConditionalProbDist(cfd, MLEProbDist)"
   ]
  },
  {
   "cell_type": "code",
   "execution_count": 54,
   "metadata": {},
   "outputs": [],
   "source": [
    "def sentence_score(s):\n",
    "    p = 0.0\n",
    "    for i in range(len(s) - 1):\n",
    "        c = s[i]\n",
    "        w = s[i + 1]\n",
    "        p += np.log(cpd[c].prob(w) + np.finfo(float).eps)\n",
    "    return np.exp(p)"
   ]
  },
  {
   "cell_type": "code",
   "execution_count": 55,
   "metadata": {},
   "outputs": [],
   "source": [
    "def generate_sentence(seed=None, start_word=\"SS\"):\n",
    "    if seed is not None:\n",
    "        import random\n",
    "        random.seed(seed)\n",
    "        \n",
    "    c = start_word\n",
    "    sentence = []\n",
    "    sentence.append(c)\n",
    "    \n",
    "    while True:\n",
    "        if c not in cpd:\n",
    "            break\n",
    "        w = cpd[c].generate()\n",
    "        if w == \"SE\":\n",
    "            break\n",
    "        else:\n",
    "            w2 = w\n",
    "        sentence.append(w2)\n",
    "        c = w\n",
    "    \n",
    "    moviename = []\n",
    "    for i in sentence:\n",
    "        mname = movieId_to_name[int(i)]\n",
    "        moviename.append(mname)\n",
    "    \n",
    "    return sentence, moviename"
   ]
  },
  {
   "cell_type": "code",
   "execution_count": 22,
   "metadata": {},
   "outputs": [],
   "source": [
    "sentence, movie = generate_sentence(start_word=\"260\")"
   ]
  },
  {
   "cell_type": "code",
   "execution_count": 67,
   "metadata": {},
   "outputs": [
    {
     "data": {
      "text/plain": [
       "'1'"
      ]
     },
     "execution_count": 67,
     "metadata": {},
     "output_type": "execute_result"
    }
   ],
   "source": [
    "sentence[0]"
   ]
  },
  {
   "cell_type": "code",
   "execution_count": 63,
   "metadata": {},
   "outputs": [],
   "source": [
    "# 모든 유저에 대해 csv만들기\n",
    "df = pd.DataFrame(columns = ['userId', 'movie_candidates'])\n",
    "for i in range(len(splitted_movies)):\n",
    "    sentence, movie = generate_sentence(start_word=splitted_movies[i][0])\n",
    "    df.loc[i] = [i, sentence]"
   ]
  },
  {
   "cell_type": "code",
   "execution_count": 66,
   "metadata": {},
   "outputs": [],
   "source": [
    "df.to_csv('ngram_candidates_small.csv')"
   ]
  },
  {
   "cell_type": "code",
   "execution_count": 68,
   "metadata": {},
   "outputs": [
    {
     "data": {
      "text/html": [
       "<div>\n",
       "<style scoped>\n",
       "    .dataframe tbody tr th:only-of-type {\n",
       "        vertical-align: middle;\n",
       "    }\n",
       "\n",
       "    .dataframe tbody tr th {\n",
       "        vertical-align: top;\n",
       "    }\n",
       "\n",
       "    .dataframe thead th {\n",
       "        text-align: right;\n",
       "    }\n",
       "</style>\n",
       "<table border=\"1\" class=\"dataframe\">\n",
       "  <thead>\n",
       "    <tr style=\"text-align: right;\">\n",
       "      <th></th>\n",
       "      <th>userId</th>\n",
       "      <th>movie_candidates</th>\n",
       "    </tr>\n",
       "  </thead>\n",
       "  <tbody>\n",
       "    <tr>\n",
       "      <td>0</td>\n",
       "      <td>0</td>\n",
       "      <td>[70, 158, 180, 296, 318, 371, 456, 480, 542, 5...</td>\n",
       "    </tr>\n",
       "    <tr>\n",
       "      <td>1</td>\n",
       "      <td>1</td>\n",
       "      <td>[318, 353, 356, 428, 429, 432, 434, 442, 500, ...</td>\n",
       "    </tr>\n",
       "    <tr>\n",
       "      <td>2</td>\n",
       "      <td>2</td>\n",
       "      <td>[31, 32, 36, 58, 95, 165, 260, 318, 348, 356, ...</td>\n",
       "    </tr>\n",
       "    <tr>\n",
       "      <td>3</td>\n",
       "      <td>3</td>\n",
       "      <td>[21, 32, 34, 47, 253, 260, 292, 333, 344, 350,...</td>\n",
       "    </tr>\n",
       "    <tr>\n",
       "      <td>4</td>\n",
       "      <td>4</td>\n",
       "      <td>[39, 48, 57, 85, 95, 648, 673, 707, 1500, 1517...</td>\n",
       "    </tr>\n",
       "    <tr>\n",
       "      <td>...</td>\n",
       "      <td>...</td>\n",
       "      <td>...</td>\n",
       "    </tr>\n",
       "    <tr>\n",
       "      <td>1208</td>\n",
       "      <td>1208</td>\n",
       "      <td>[17, 25, 29, 32, 34, 62, 65, 71, 95, 141, 145,...</td>\n",
       "    </tr>\n",
       "    <tr>\n",
       "      <td>1209</td>\n",
       "      <td>1209</td>\n",
       "      <td>[1, 5, 7, 9, 79, 86, 110, 150, 230, 235, 236, ...</td>\n",
       "    </tr>\n",
       "    <tr>\n",
       "      <td>1210</td>\n",
       "      <td>1210</td>\n",
       "      <td>[10, 47, 150, 153, 185, 222, 260, 288, 293, 34...</td>\n",
       "    </tr>\n",
       "    <tr>\n",
       "      <td>1211</td>\n",
       "      <td>1211</td>\n",
       "      <td>[10, 21, 34, 480, 920, 922, 923, 924, 968, 112...</td>\n",
       "    </tr>\n",
       "    <tr>\n",
       "      <td>1212</td>\n",
       "      <td>1212</td>\n",
       "      <td>[1, 6, 10, 25, 32, 47, 48, 57, 144, 150, 236, ...</td>\n",
       "    </tr>\n",
       "  </tbody>\n",
       "</table>\n",
       "<p>1213 rows × 2 columns</p>\n",
       "</div>"
      ],
      "text/plain": [
       "     userId                                   movie_candidates\n",
       "0         0  [70, 158, 180, 296, 318, 371, 456, 480, 542, 5...\n",
       "1         1  [318, 353, 356, 428, 429, 432, 434, 442, 500, ...\n",
       "2         2  [31, 32, 36, 58, 95, 165, 260, 318, 348, 356, ...\n",
       "3         3  [21, 32, 34, 47, 253, 260, 292, 333, 344, 350,...\n",
       "4         4  [39, 48, 57, 85, 95, 648, 673, 707, 1500, 1517...\n",
       "...     ...                                                ...\n",
       "1208   1208  [17, 25, 29, 32, 34, 62, 65, 71, 95, 141, 145,...\n",
       "1209   1209  [1, 5, 7, 9, 79, 86, 110, 150, 230, 235, 236, ...\n",
       "1210   1210  [10, 47, 150, 153, 185, 222, 260, 288, 293, 34...\n",
       "1211   1211  [10, 21, 34, 480, 920, 922, 923, 924, 968, 112...\n",
       "1212   1212  [1, 6, 10, 25, 32, 47, 48, 57, 144, 150, 236, ...\n",
       "\n",
       "[1213 rows x 2 columns]"
      ]
     },
     "execution_count": 68,
     "metadata": {},
     "output_type": "execute_result"
    }
   ],
   "source": [
    "df"
   ]
  },
  {
   "cell_type": "markdown",
   "metadata": {},
   "source": [
    "## 개선해야할 점\n",
    "- 조건부 확률... 순서는 상관이 없기 때문에 이 점 개선\n",
    "- 출발 아이템을 frequent한 것으로 바꿔주기"
   ]
  },
  {
   "cell_type": "code",
   "execution_count": 24,
   "metadata": {},
   "outputs": [],
   "source": [
    "def find_usr_with_id(mid):\n",
    "    usr = []\n",
    "    for i in splitted_movies:\n",
    "        if mid in i:\n",
    "            usr.append(i)\n",
    "    \n",
    "    # 해당 mid를 본 유저와 생성한 sentence를 비교\n",
    "    compare = [] # 생성한 sentence와 비교해 일치율 구하기\n",
    "    for u in usr:\n",
    "        c = list(set(u).intersection(sentence))\n",
    "        prob = (len(c) / len(sentence)) * 100\n",
    "        compare.append(prob)\n",
    "    \n",
    "    return usr, compare"
   ]
  },
  {
   "cell_type": "code",
   "execution_count": 25,
   "metadata": {},
   "outputs": [],
   "source": [
    "usr, compare = find_usr_with_id(\"3\")"
   ]
  },
  {
   "cell_type": "code",
   "execution_count": 26,
   "metadata": {},
   "outputs": [
    {
     "data": {
      "text/plain": [
       "6"
      ]
     },
     "execution_count": 26,
     "metadata": {},
     "output_type": "execute_result"
    }
   ],
   "source": [
    "compare.index(max(compare))"
   ]
  },
  {
   "cell_type": "code",
   "execution_count": 27,
   "metadata": {},
   "outputs": [
    {
     "data": {
      "text/plain": [
       "[54.54545454545454,\n",
       " 18.181818181818183,\n",
       " 0.0,\n",
       " 18.181818181818183,\n",
       " 36.36363636363637,\n",
       " 63.63636363636363,\n",
       " 72.72727272727273,\n",
       " 18.181818181818183,\n",
       " 9.090909090909092,\n",
       " 54.54545454545454,\n",
       " 0.0,\n",
       " 0.0,\n",
       " 45.45454545454545,\n",
       " 27.27272727272727,\n",
       " 0.0,\n",
       " 0.0,\n",
       " 9.090909090909092,\n",
       " 9.090909090909092,\n",
       " 45.45454545454545,\n",
       " 18.181818181818183,\n",
       " 27.27272727272727,\n",
       " 36.36363636363637,\n",
       " 36.36363636363637,\n",
       " 36.36363636363637,\n",
       " 0.0,\n",
       " 27.27272727272727,\n",
       " 27.27272727272727,\n",
       " 45.45454545454545,\n",
       " 0.0,\n",
       " 18.181818181818183,\n",
       " 36.36363636363637,\n",
       " 45.45454545454545,\n",
       " 72.72727272727273,\n",
       " 54.54545454545454,\n",
       " 9.090909090909092,\n",
       " 54.54545454545454,\n",
       " 36.36363636363637,\n",
       " 45.45454545454545,\n",
       " 18.181818181818183,\n",
       " 18.181818181818183,\n",
       " 9.090909090909092,\n",
       " 36.36363636363637,\n",
       " 18.181818181818183,\n",
       " 0.0,\n",
       " 18.181818181818183,\n",
       " 18.181818181818183,\n",
       " 0.0,\n",
       " 54.54545454545454,\n",
       " 9.090909090909092,\n",
       " 0.0,\n",
       " 54.54545454545454,\n",
       " 27.27272727272727]"
      ]
     },
     "execution_count": 27,
     "metadata": {},
     "output_type": "execute_result"
    }
   ],
   "source": [
    "compare"
   ]
  },
  {
   "cell_type": "code",
   "execution_count": 23,
   "metadata": {},
   "outputs": [],
   "source": [
    "# support 실제 얼마나 나오는지\n",
    "# 출발도 frequent한 아이템을 가지고 real support 구하기\n",
    "# association rule로 구하는 것 보다 이게 리즈너블 한가?"
   ]
  },
  {
   "cell_type": "code",
   "execution_count": null,
   "metadata": {},
   "outputs": [],
   "source": [
    "# 순서 정렬해서 돌리기\n",
    "# association에서는 실제로 "
   ]
  }
 ],
 "metadata": {
  "kernelspec": {
   "display_name": "Python 3",
   "language": "python",
   "name": "python3"
  },
  "language_info": {
   "codemirror_mode": {
    "name": "ipython",
    "version": 3
   },
   "file_extension": ".py",
   "mimetype": "text/x-python",
   "name": "python",
   "nbconvert_exporter": "python",
   "pygments_lexer": "ipython3",
   "version": "3.7.4"
  }
 },
 "nbformat": 4,
 "nbformat_minor": 2
}
